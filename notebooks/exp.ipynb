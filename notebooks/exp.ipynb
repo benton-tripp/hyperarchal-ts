{
 "cells": [
  {
   "cell_type": "code",
   "execution_count": 1,
   "metadata": {},
   "outputs": [
    {
     "ename": "ModuleNotFoundError",
     "evalue": "No module named 'plotnine'",
     "output_type": "error",
     "traceback": [
      "\u001b[1;31m---------------------------------------------------------------------------\u001b[0m",
      "\u001b[1;31mModuleNotFoundError\u001b[0m                       Traceback (most recent call last)",
      "\u001b[1;32m<ipython-input-1-a8944f333c7d>\u001b[0m in \u001b[0;36m<module>\u001b[1;34m\u001b[0m\n\u001b[0;32m      3\u001b[0m \u001b[1;31m# Import libraries\u001b[0m\u001b[1;33m\u001b[0m\u001b[1;33m\u001b[0m\u001b[1;33m\u001b[0m\u001b[0m\n\u001b[0;32m      4\u001b[0m \u001b[1;32mimport\u001b[0m \u001b[0mpandas\u001b[0m \u001b[1;32mas\u001b[0m \u001b[0mpd\u001b[0m\u001b[1;33m\u001b[0m\u001b[1;33m\u001b[0m\u001b[0m\n\u001b[1;32m----> 5\u001b[1;33m \u001b[1;32mfrom\u001b[0m \u001b[0mplotnine\u001b[0m \u001b[1;32mimport\u001b[0m \u001b[0mggplot\u001b[0m\u001b[1;33m,\u001b[0m \u001b[0maes\u001b[0m\u001b[1;33m,\u001b[0m \u001b[0mgeom_line\u001b[0m\u001b[1;33m\u001b[0m\u001b[1;33m\u001b[0m\u001b[0m\n\u001b[0m\u001b[0;32m      6\u001b[0m \u001b[1;33m\u001b[0m\u001b[0m\n\u001b[0;32m      7\u001b[0m \u001b[1;32mimport\u001b[0m \u001b[0msys\u001b[0m\u001b[1;33m,\u001b[0m \u001b[0mos\u001b[0m\u001b[1;33m\u001b[0m\u001b[1;33m\u001b[0m\u001b[0m\n",
      "\u001b[1;31mModuleNotFoundError\u001b[0m: No module named 'plotnine'"
     ]
    }
   ],
   "source": [
    "#htsf\\Scripts\\activate    \n",
    "\n",
    "# Import libraries\n",
    "import pandas as pd\n",
    "from plotnine import ggplot, aes, geom_line\n",
    "\n",
    "import sys, os\n",
    "sys.path.append(os.path.join(os.path.dirname('__file__'), '..', 'src'))\n",
    "import hyperarch\n",
    "\n",
    "%matplotlib inline\n",
    "\n",
    "\n",
    "def get_data(file_loc, verbose=True):\n",
    "    data = pd.read_csv(file_loc)\n",
    "    # Update Data Types\n",
    "    data['date'] = pd.to_datetime(data['date'])\n",
    "    data['subcategory'] = data['subcategory'].astype('category')\n",
    "    data['category'] = data['category'].astype('category')\n",
    "    if verbose is True:\n",
    "        display(data.head())\n",
    "        data.info()\n",
    "        for col in data.columns:\n",
    "            if data[col].dtype == 'category':\n",
    "                print(f'{col} unique values: {len(data[col].unique())}')\n",
    "            elif data[col].dtype == 'datetime64[ns]':\n",
    "                print(f'Min Date: {data[col].min()}')\n",
    "                print(f'Max Date: {data[col].max()}')\n",
    "            else:\n",
    "                print(f'{col}:\\n{data[col].describe()}\\n')\n",
    "    return data\n",
    "\n",
    "# Read data\n",
    "h_df = get_data('../data/hierarchal_agg.csv', verbose = True)\n",
    "g_df = get_data('../data/grouped_agg.csv', verbose = False)"
   ]
  },
  {
   "cell_type": "code",
   "execution_count": null,
   "metadata": {},
   "outputs": [],
   "source": [
    "\n",
    "\n",
    "# Grouped hierarchy\n",
    "hierarchy_df, h_bottom, h_labels = hyperarch.get_hierarchal(h_df, 'category', 'subcategory', agg_type='hierarchy')   \n",
    "h_s = hyperarch.get_S(h_bottom, h_labels, agg_type='hierarchy')\n",
    "h_models = hyperarch.get_models(hierarchy_df, steps_out=4)\n",
    "h_yhat = hyperarch.get_forecast_matrix(h_models)\n",
    "h_reconciled_yhat = hyperarch.reconcile(h_yhat, h_s, method='ols')\n",
    "\n",
    "# Grouped hierarchy\n",
    "grouped_df, g_bottom, g_labels = hyperarch.get_hierarchal(g_df, 'category', 'subcategory', agg_type='grouped')   \n",
    "g_s = hyperarch.get_S(g_bottom, g_labels, agg_type='grouped')\n",
    "g_models = hyperarch.get_models(grouped_df, steps_out=4)\n",
    "g_yhat = hyperarch.get_forecast_matrix(g_models)\n",
    "g_reconciled_yhat = hyperarch.reconcile(g_yhat, g_s, method='ols')"
   ]
  }
 ],
 "metadata": {
  "interpreter": {
   "hash": "909fcdf7dc32f20eda4c87604a97b0d9c6db020a5a69ab8a08e2d3992a8b1afc"
  },
  "kernelspec": {
   "display_name": "Python 3.8.8 ('htsf': venv)",
   "language": "python",
   "name": "python3"
  },
  "language_info": {
   "codemirror_mode": {
    "name": "ipython",
    "version": 3
   },
   "file_extension": ".py",
   "mimetype": "text/x-python",
   "name": "python",
   "nbconvert_exporter": "python",
   "pygments_lexer": "ipython3",
   "version": "3.8.8"
  },
  "orig_nbformat": 4
 },
 "nbformat": 4,
 "nbformat_minor": 2
}
