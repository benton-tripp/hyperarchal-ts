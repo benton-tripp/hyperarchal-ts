{
 "cells": [
  {
   "cell_type": "code",
   "execution_count": 1,
   "metadata": {},
   "outputs": [
    {
     "ename": "FileNotFoundError",
     "evalue": "[Errno 2] No such file or directory: 'data/dataset.csv'",
     "output_type": "error",
     "traceback": [
      "\u001b[0;31m---------------------------------------------------------------------------\u001b[0m",
      "\u001b[0;31mFileNotFoundError\u001b[0m                         Traceback (most recent call last)",
      "\u001b[1;32m/workspaces/hyperarchal-ts/notebooks/exp.ipynb Cell 1'\u001b[0m in \u001b[0;36m<cell line: 16>\u001b[0;34m()\u001b[0m\n\u001b[1;32m     <a href='vscode-notebook-cell://dev-container%2B633a5c55736572735c62656e746f5c4f6e6544726976655c636f64655f616e645f646174615c687970657261726368616c2d7473/workspaces/hyperarchal-ts/notebooks/exp.ipynb#ch0000001vscode-remote?line=11'>12</a>\u001b[0m get_ipython()\u001b[39m.\u001b[39mrun_line_magic(\u001b[39m'\u001b[39m\u001b[39mmatplotlib\u001b[39m\u001b[39m'\u001b[39m, \u001b[39m'\u001b[39m\u001b[39minline\u001b[39m\u001b[39m'\u001b[39m)\n\u001b[1;32m     <a href='vscode-notebook-cell://dev-container%2B633a5c55736572735c62656e746f5c4f6e6544726976655c636f64655f616e645f646174615c687970657261726368616c2d7473/workspaces/hyperarchal-ts/notebooks/exp.ipynb#ch0000001vscode-remote?line=14'>15</a>\u001b[0m \u001b[39m# Read Data\u001b[39;00m\n\u001b[0;32m---> <a href='vscode-notebook-cell://dev-container%2B633a5c55736572735c62656e746f5c4f6e6544726976655c636f64655f616e645f646174615c687970657261726368616c2d7473/workspaces/hyperarchal-ts/notebooks/exp.ipynb#ch0000001vscode-remote?line=15'>16</a>\u001b[0m df \u001b[39m=\u001b[39m pd\u001b[39m.\u001b[39;49mread_csv(\u001b[39m'\u001b[39;49m\u001b[39mdata/dataset.csv\u001b[39;49m\u001b[39m'\u001b[39;49m)\n\u001b[1;32m     <a href='vscode-notebook-cell://dev-container%2B633a5c55736572735c62656e746f5c4f6e6544726976655c636f64655f616e645f646174615c687970657261726368616c2d7473/workspaces/hyperarchal-ts/notebooks/exp.ipynb#ch0000001vscode-remote?line=16'>17</a>\u001b[0m df\u001b[39m.\u001b[39mhead()\n",
      "File \u001b[0;32m/opt/conda/envs/htsf/lib/python3.9/site-packages/pandas/util/_decorators.py:311\u001b[0m, in \u001b[0;36mdeprecate_nonkeyword_arguments.<locals>.decorate.<locals>.wrapper\u001b[0;34m(*args, **kwargs)\u001b[0m\n\u001b[1;32m    <a href='file:///opt/conda/envs/htsf/lib/python3.9/site-packages/pandas/util/_decorators.py?line=304'>305</a>\u001b[0m \u001b[39mif\u001b[39;00m \u001b[39mlen\u001b[39m(args) \u001b[39m>\u001b[39m num_allow_args:\n\u001b[1;32m    <a href='file:///opt/conda/envs/htsf/lib/python3.9/site-packages/pandas/util/_decorators.py?line=305'>306</a>\u001b[0m     warnings\u001b[39m.\u001b[39mwarn(\n\u001b[1;32m    <a href='file:///opt/conda/envs/htsf/lib/python3.9/site-packages/pandas/util/_decorators.py?line=306'>307</a>\u001b[0m         msg\u001b[39m.\u001b[39mformat(arguments\u001b[39m=\u001b[39marguments),\n\u001b[1;32m    <a href='file:///opt/conda/envs/htsf/lib/python3.9/site-packages/pandas/util/_decorators.py?line=307'>308</a>\u001b[0m         \u001b[39mFutureWarning\u001b[39;00m,\n\u001b[1;32m    <a href='file:///opt/conda/envs/htsf/lib/python3.9/site-packages/pandas/util/_decorators.py?line=308'>309</a>\u001b[0m         stacklevel\u001b[39m=\u001b[39mstacklevel,\n\u001b[1;32m    <a href='file:///opt/conda/envs/htsf/lib/python3.9/site-packages/pandas/util/_decorators.py?line=309'>310</a>\u001b[0m     )\n\u001b[0;32m--> <a href='file:///opt/conda/envs/htsf/lib/python3.9/site-packages/pandas/util/_decorators.py?line=310'>311</a>\u001b[0m \u001b[39mreturn\u001b[39;00m func(\u001b[39m*\u001b[39;49margs, \u001b[39m*\u001b[39;49m\u001b[39m*\u001b[39;49mkwargs)\n",
      "File \u001b[0;32m/opt/conda/envs/htsf/lib/python3.9/site-packages/pandas/io/parsers/readers.py:680\u001b[0m, in \u001b[0;36mread_csv\u001b[0;34m(filepath_or_buffer, sep, delimiter, header, names, index_col, usecols, squeeze, prefix, mangle_dupe_cols, dtype, engine, converters, true_values, false_values, skipinitialspace, skiprows, skipfooter, nrows, na_values, keep_default_na, na_filter, verbose, skip_blank_lines, parse_dates, infer_datetime_format, keep_date_col, date_parser, dayfirst, cache_dates, iterator, chunksize, compression, thousands, decimal, lineterminator, quotechar, quoting, doublequote, escapechar, comment, encoding, encoding_errors, dialect, error_bad_lines, warn_bad_lines, on_bad_lines, delim_whitespace, low_memory, memory_map, float_precision, storage_options)\u001b[0m\n\u001b[1;32m    <a href='file:///opt/conda/envs/htsf/lib/python3.9/site-packages/pandas/io/parsers/readers.py?line=664'>665</a>\u001b[0m kwds_defaults \u001b[39m=\u001b[39m _refine_defaults_read(\n\u001b[1;32m    <a href='file:///opt/conda/envs/htsf/lib/python3.9/site-packages/pandas/io/parsers/readers.py?line=665'>666</a>\u001b[0m     dialect,\n\u001b[1;32m    <a href='file:///opt/conda/envs/htsf/lib/python3.9/site-packages/pandas/io/parsers/readers.py?line=666'>667</a>\u001b[0m     delimiter,\n\u001b[0;32m   (...)\u001b[0m\n\u001b[1;32m    <a href='file:///opt/conda/envs/htsf/lib/python3.9/site-packages/pandas/io/parsers/readers.py?line=675'>676</a>\u001b[0m     defaults\u001b[39m=\u001b[39m{\u001b[39m\"\u001b[39m\u001b[39mdelimiter\u001b[39m\u001b[39m\"\u001b[39m: \u001b[39m\"\u001b[39m\u001b[39m,\u001b[39m\u001b[39m\"\u001b[39m},\n\u001b[1;32m    <a href='file:///opt/conda/envs/htsf/lib/python3.9/site-packages/pandas/io/parsers/readers.py?line=676'>677</a>\u001b[0m )\n\u001b[1;32m    <a href='file:///opt/conda/envs/htsf/lib/python3.9/site-packages/pandas/io/parsers/readers.py?line=677'>678</a>\u001b[0m kwds\u001b[39m.\u001b[39mupdate(kwds_defaults)\n\u001b[0;32m--> <a href='file:///opt/conda/envs/htsf/lib/python3.9/site-packages/pandas/io/parsers/readers.py?line=679'>680</a>\u001b[0m \u001b[39mreturn\u001b[39;00m _read(filepath_or_buffer, kwds)\n",
      "File \u001b[0;32m/opt/conda/envs/htsf/lib/python3.9/site-packages/pandas/io/parsers/readers.py:575\u001b[0m, in \u001b[0;36m_read\u001b[0;34m(filepath_or_buffer, kwds)\u001b[0m\n\u001b[1;32m    <a href='file:///opt/conda/envs/htsf/lib/python3.9/site-packages/pandas/io/parsers/readers.py?line=571'>572</a>\u001b[0m _validate_names(kwds\u001b[39m.\u001b[39mget(\u001b[39m\"\u001b[39m\u001b[39mnames\u001b[39m\u001b[39m\"\u001b[39m, \u001b[39mNone\u001b[39;00m))\n\u001b[1;32m    <a href='file:///opt/conda/envs/htsf/lib/python3.9/site-packages/pandas/io/parsers/readers.py?line=573'>574</a>\u001b[0m \u001b[39m# Create the parser.\u001b[39;00m\n\u001b[0;32m--> <a href='file:///opt/conda/envs/htsf/lib/python3.9/site-packages/pandas/io/parsers/readers.py?line=574'>575</a>\u001b[0m parser \u001b[39m=\u001b[39m TextFileReader(filepath_or_buffer, \u001b[39m*\u001b[39;49m\u001b[39m*\u001b[39;49mkwds)\n\u001b[1;32m    <a href='file:///opt/conda/envs/htsf/lib/python3.9/site-packages/pandas/io/parsers/readers.py?line=576'>577</a>\u001b[0m \u001b[39mif\u001b[39;00m chunksize \u001b[39mor\u001b[39;00m iterator:\n\u001b[1;32m    <a href='file:///opt/conda/envs/htsf/lib/python3.9/site-packages/pandas/io/parsers/readers.py?line=577'>578</a>\u001b[0m     \u001b[39mreturn\u001b[39;00m parser\n",
      "File \u001b[0;32m/opt/conda/envs/htsf/lib/python3.9/site-packages/pandas/io/parsers/readers.py:933\u001b[0m, in \u001b[0;36mTextFileReader.__init__\u001b[0;34m(self, f, engine, **kwds)\u001b[0m\n\u001b[1;32m    <a href='file:///opt/conda/envs/htsf/lib/python3.9/site-packages/pandas/io/parsers/readers.py?line=929'>930</a>\u001b[0m     \u001b[39mself\u001b[39m\u001b[39m.\u001b[39moptions[\u001b[39m\"\u001b[39m\u001b[39mhas_index_names\u001b[39m\u001b[39m\"\u001b[39m] \u001b[39m=\u001b[39m kwds[\u001b[39m\"\u001b[39m\u001b[39mhas_index_names\u001b[39m\u001b[39m\"\u001b[39m]\n\u001b[1;32m    <a href='file:///opt/conda/envs/htsf/lib/python3.9/site-packages/pandas/io/parsers/readers.py?line=931'>932</a>\u001b[0m \u001b[39mself\u001b[39m\u001b[39m.\u001b[39mhandles: IOHandles \u001b[39m|\u001b[39m \u001b[39mNone\u001b[39;00m \u001b[39m=\u001b[39m \u001b[39mNone\u001b[39;00m\n\u001b[0;32m--> <a href='file:///opt/conda/envs/htsf/lib/python3.9/site-packages/pandas/io/parsers/readers.py?line=932'>933</a>\u001b[0m \u001b[39mself\u001b[39m\u001b[39m.\u001b[39m_engine \u001b[39m=\u001b[39m \u001b[39mself\u001b[39;49m\u001b[39m.\u001b[39;49m_make_engine(f, \u001b[39mself\u001b[39;49m\u001b[39m.\u001b[39;49mengine)\n",
      "File \u001b[0;32m/opt/conda/envs/htsf/lib/python3.9/site-packages/pandas/io/parsers/readers.py:1217\u001b[0m, in \u001b[0;36mTextFileReader._make_engine\u001b[0;34m(self, f, engine)\u001b[0m\n\u001b[1;32m   <a href='file:///opt/conda/envs/htsf/lib/python3.9/site-packages/pandas/io/parsers/readers.py?line=1212'>1213</a>\u001b[0m     mode \u001b[39m=\u001b[39m \u001b[39m\"\u001b[39m\u001b[39mrb\u001b[39m\u001b[39m\"\u001b[39m\n\u001b[1;32m   <a href='file:///opt/conda/envs/htsf/lib/python3.9/site-packages/pandas/io/parsers/readers.py?line=1213'>1214</a>\u001b[0m \u001b[39m# error: No overload variant of \"get_handle\" matches argument types\u001b[39;00m\n\u001b[1;32m   <a href='file:///opt/conda/envs/htsf/lib/python3.9/site-packages/pandas/io/parsers/readers.py?line=1214'>1215</a>\u001b[0m \u001b[39m# \"Union[str, PathLike[str], ReadCsvBuffer[bytes], ReadCsvBuffer[str]]\"\u001b[39;00m\n\u001b[1;32m   <a href='file:///opt/conda/envs/htsf/lib/python3.9/site-packages/pandas/io/parsers/readers.py?line=1215'>1216</a>\u001b[0m \u001b[39m# , \"str\", \"bool\", \"Any\", \"Any\", \"Any\", \"Any\", \"Any\"\u001b[39;00m\n\u001b[0;32m-> <a href='file:///opt/conda/envs/htsf/lib/python3.9/site-packages/pandas/io/parsers/readers.py?line=1216'>1217</a>\u001b[0m \u001b[39mself\u001b[39m\u001b[39m.\u001b[39mhandles \u001b[39m=\u001b[39m get_handle(  \u001b[39m# type: ignore[call-overload]\u001b[39;49;00m\n\u001b[1;32m   <a href='file:///opt/conda/envs/htsf/lib/python3.9/site-packages/pandas/io/parsers/readers.py?line=1217'>1218</a>\u001b[0m     f,\n\u001b[1;32m   <a href='file:///opt/conda/envs/htsf/lib/python3.9/site-packages/pandas/io/parsers/readers.py?line=1218'>1219</a>\u001b[0m     mode,\n\u001b[1;32m   <a href='file:///opt/conda/envs/htsf/lib/python3.9/site-packages/pandas/io/parsers/readers.py?line=1219'>1220</a>\u001b[0m     encoding\u001b[39m=\u001b[39;49m\u001b[39mself\u001b[39;49m\u001b[39m.\u001b[39;49moptions\u001b[39m.\u001b[39;49mget(\u001b[39m\"\u001b[39;49m\u001b[39mencoding\u001b[39;49m\u001b[39m\"\u001b[39;49m, \u001b[39mNone\u001b[39;49;00m),\n\u001b[1;32m   <a href='file:///opt/conda/envs/htsf/lib/python3.9/site-packages/pandas/io/parsers/readers.py?line=1220'>1221</a>\u001b[0m     compression\u001b[39m=\u001b[39;49m\u001b[39mself\u001b[39;49m\u001b[39m.\u001b[39;49moptions\u001b[39m.\u001b[39;49mget(\u001b[39m\"\u001b[39;49m\u001b[39mcompression\u001b[39;49m\u001b[39m\"\u001b[39;49m, \u001b[39mNone\u001b[39;49;00m),\n\u001b[1;32m   <a href='file:///opt/conda/envs/htsf/lib/python3.9/site-packages/pandas/io/parsers/readers.py?line=1221'>1222</a>\u001b[0m     memory_map\u001b[39m=\u001b[39;49m\u001b[39mself\u001b[39;49m\u001b[39m.\u001b[39;49moptions\u001b[39m.\u001b[39;49mget(\u001b[39m\"\u001b[39;49m\u001b[39mmemory_map\u001b[39;49m\u001b[39m\"\u001b[39;49m, \u001b[39mFalse\u001b[39;49;00m),\n\u001b[1;32m   <a href='file:///opt/conda/envs/htsf/lib/python3.9/site-packages/pandas/io/parsers/readers.py?line=1222'>1223</a>\u001b[0m     is_text\u001b[39m=\u001b[39;49mis_text,\n\u001b[1;32m   <a href='file:///opt/conda/envs/htsf/lib/python3.9/site-packages/pandas/io/parsers/readers.py?line=1223'>1224</a>\u001b[0m     errors\u001b[39m=\u001b[39;49m\u001b[39mself\u001b[39;49m\u001b[39m.\u001b[39;49moptions\u001b[39m.\u001b[39;49mget(\u001b[39m\"\u001b[39;49m\u001b[39mencoding_errors\u001b[39;49m\u001b[39m\"\u001b[39;49m, \u001b[39m\"\u001b[39;49m\u001b[39mstrict\u001b[39;49m\u001b[39m\"\u001b[39;49m),\n\u001b[1;32m   <a href='file:///opt/conda/envs/htsf/lib/python3.9/site-packages/pandas/io/parsers/readers.py?line=1224'>1225</a>\u001b[0m     storage_options\u001b[39m=\u001b[39;49m\u001b[39mself\u001b[39;49m\u001b[39m.\u001b[39;49moptions\u001b[39m.\u001b[39;49mget(\u001b[39m\"\u001b[39;49m\u001b[39mstorage_options\u001b[39;49m\u001b[39m\"\u001b[39;49m, \u001b[39mNone\u001b[39;49;00m),\n\u001b[1;32m   <a href='file:///opt/conda/envs/htsf/lib/python3.9/site-packages/pandas/io/parsers/readers.py?line=1225'>1226</a>\u001b[0m )\n\u001b[1;32m   <a href='file:///opt/conda/envs/htsf/lib/python3.9/site-packages/pandas/io/parsers/readers.py?line=1226'>1227</a>\u001b[0m \u001b[39massert\u001b[39;00m \u001b[39mself\u001b[39m\u001b[39m.\u001b[39mhandles \u001b[39mis\u001b[39;00m \u001b[39mnot\u001b[39;00m \u001b[39mNone\u001b[39;00m\n\u001b[1;32m   <a href='file:///opt/conda/envs/htsf/lib/python3.9/site-packages/pandas/io/parsers/readers.py?line=1227'>1228</a>\u001b[0m f \u001b[39m=\u001b[39m \u001b[39mself\u001b[39m\u001b[39m.\u001b[39mhandles\u001b[39m.\u001b[39mhandle\n",
      "File \u001b[0;32m/opt/conda/envs/htsf/lib/python3.9/site-packages/pandas/io/common.py:789\u001b[0m, in \u001b[0;36mget_handle\u001b[0;34m(path_or_buf, mode, encoding, compression, memory_map, is_text, errors, storage_options)\u001b[0m\n\u001b[1;32m    <a href='file:///opt/conda/envs/htsf/lib/python3.9/site-packages/pandas/io/common.py?line=783'>784</a>\u001b[0m \u001b[39melif\u001b[39;00m \u001b[39misinstance\u001b[39m(handle, \u001b[39mstr\u001b[39m):\n\u001b[1;32m    <a href='file:///opt/conda/envs/htsf/lib/python3.9/site-packages/pandas/io/common.py?line=784'>785</a>\u001b[0m     \u001b[39m# Check whether the filename is to be opened in binary mode.\u001b[39;00m\n\u001b[1;32m    <a href='file:///opt/conda/envs/htsf/lib/python3.9/site-packages/pandas/io/common.py?line=785'>786</a>\u001b[0m     \u001b[39m# Binary mode does not support 'encoding' and 'newline'.\u001b[39;00m\n\u001b[1;32m    <a href='file:///opt/conda/envs/htsf/lib/python3.9/site-packages/pandas/io/common.py?line=786'>787</a>\u001b[0m     \u001b[39mif\u001b[39;00m ioargs\u001b[39m.\u001b[39mencoding \u001b[39mand\u001b[39;00m \u001b[39m\"\u001b[39m\u001b[39mb\u001b[39m\u001b[39m\"\u001b[39m \u001b[39mnot\u001b[39;00m \u001b[39min\u001b[39;00m ioargs\u001b[39m.\u001b[39mmode:\n\u001b[1;32m    <a href='file:///opt/conda/envs/htsf/lib/python3.9/site-packages/pandas/io/common.py?line=787'>788</a>\u001b[0m         \u001b[39m# Encoding\u001b[39;00m\n\u001b[0;32m--> <a href='file:///opt/conda/envs/htsf/lib/python3.9/site-packages/pandas/io/common.py?line=788'>789</a>\u001b[0m         handle \u001b[39m=\u001b[39m \u001b[39mopen\u001b[39;49m(\n\u001b[1;32m    <a href='file:///opt/conda/envs/htsf/lib/python3.9/site-packages/pandas/io/common.py?line=789'>790</a>\u001b[0m             handle,\n\u001b[1;32m    <a href='file:///opt/conda/envs/htsf/lib/python3.9/site-packages/pandas/io/common.py?line=790'>791</a>\u001b[0m             ioargs\u001b[39m.\u001b[39;49mmode,\n\u001b[1;32m    <a href='file:///opt/conda/envs/htsf/lib/python3.9/site-packages/pandas/io/common.py?line=791'>792</a>\u001b[0m             encoding\u001b[39m=\u001b[39;49mioargs\u001b[39m.\u001b[39;49mencoding,\n\u001b[1;32m    <a href='file:///opt/conda/envs/htsf/lib/python3.9/site-packages/pandas/io/common.py?line=792'>793</a>\u001b[0m             errors\u001b[39m=\u001b[39;49merrors,\n\u001b[1;32m    <a href='file:///opt/conda/envs/htsf/lib/python3.9/site-packages/pandas/io/common.py?line=793'>794</a>\u001b[0m             newline\u001b[39m=\u001b[39;49m\u001b[39m\"\u001b[39;49m\u001b[39m\"\u001b[39;49m,\n\u001b[1;32m    <a href='file:///opt/conda/envs/htsf/lib/python3.9/site-packages/pandas/io/common.py?line=794'>795</a>\u001b[0m         )\n\u001b[1;32m    <a href='file:///opt/conda/envs/htsf/lib/python3.9/site-packages/pandas/io/common.py?line=795'>796</a>\u001b[0m     \u001b[39melse\u001b[39;00m:\n\u001b[1;32m    <a href='file:///opt/conda/envs/htsf/lib/python3.9/site-packages/pandas/io/common.py?line=796'>797</a>\u001b[0m         \u001b[39m# Binary mode\u001b[39;00m\n\u001b[1;32m    <a href='file:///opt/conda/envs/htsf/lib/python3.9/site-packages/pandas/io/common.py?line=797'>798</a>\u001b[0m         handle \u001b[39m=\u001b[39m \u001b[39mopen\u001b[39m(handle, ioargs\u001b[39m.\u001b[39mmode)\n",
      "\u001b[0;31mFileNotFoundError\u001b[0m: [Errno 2] No such file or directory: 'data/dataset.csv'"
     ]
    }
   ],
   "source": [
    "# Import libraries\n",
    "import pandas as pd\n",
    "from datetime import datetime\n",
    "import matplotlib.pylab as plt\n",
    "from plotnine import ggplot, aes, geom_line\n",
    "import statsmodels.api as sm\n",
    "import numpy as np\n",
    "from statsmodels.graphics import tsaplots\n",
    "from statsmodels.tsa.arima.model import ARIMA\n",
    "import hts\n",
    "\n",
    "%matplotlib inline\n",
    "\n",
    "\n",
    "# Read Data\n",
    "df = pd.read_csv('data/dataset.csv')\n",
    "df.head()"
   ]
  },
  {
   "cell_type": "code",
   "execution_count": null,
   "metadata": {},
   "outputs": [],
   "source": [
    "# Update Data Types\n",
    "df['Data Type'] = df['Data Type'].astype('category')\n",
    "df['Month'] = pd.to_datetime(df['Month'])\n",
    "df['Client'] = df['Client'].astype('category')\n",
    "df['Responsible'] = df['Responsible'].astype('category')\n",
    "df.info()"
   ]
  },
  {
   "cell_type": "code",
   "execution_count": null,
   "metadata": {},
   "outputs": [],
   "source": [
    "# Exploratory Analysis\n",
    "\n",
    "def get_column_description(data):\n",
    "    for col in data.columns:\n",
    "        if data[col].dtype == 'category':\n",
    "            print(f'{col} unique values: {len(data[col].unique())}\\n')\n",
    "        elif data[col].dtype == 'datetime64[ns]':\n",
    "            print(f'Min Date: {data[col].min()}')\n",
    "            print(f'Max Date: {data[col].max()}\\n')\n",
    "        else:\n",
    "            print(f'{col}:\\n{df[col].describe()}\\n')\n",
    "\n",
    "get_column_description(df)"
   ]
  },
  {
   "cell_type": "code",
   "execution_count": null,
   "metadata": {},
   "outputs": [],
   "source": [
    "df.groupby(['Responsible', 'Client']).count().rename(columns={'Data Type': 'Count'}).sort_values(by='Count', ascending=False).Count"
   ]
  },
  {
   "cell_type": "code",
   "execution_count": null,
   "metadata": {},
   "outputs": [],
   "source": [
    "# Example of Team member with all 13 months with one client\n",
    "example = df.loc[(df.Responsible == 'Team Member 12') & (df.Client == 'Client 18')].sort_values(by='Month')\n",
    "example.index = pd.DatetimeIndex(example.Month, freq=pd.DatetimeIndex(example.Month).inferred_freq)\n",
    "\n",
    "display(example)\n",
    "\n",
    "(\n",
    "    ggplot(example)\n",
    "    + aes(x='Month', y='Est Hrs')\n",
    "    + geom_line()\n",
    ")"
   ]
  },
  {
   "cell_type": "code",
   "execution_count": null,
   "metadata": {},
   "outputs": [],
   "source": [
    "# Because there aren't a complete 13-month range for each team member, do some pre-processing filling in empty months with zero\n",
    "\n",
    "def fill_empty_dates(data):\n",
    "    unique_pairs = data[['Responsible', 'Client']].drop_duplicates().sort_values(by=['Responsible', 'Client'])\n",
    "    dates = pd.concat([pd.DataFrame({'Month':pd.date_range(datetime(2021, 1, 1), periods=13, freq='1M') - pd.offsets.MonthBegin(1)})]*len(unique_pairs), ignore_index=True)\n",
    "    resp_cli = pd.concat([unique_pairs]*13, ignore_index=True).sort_values(by=['Responsible', 'Client'])\n",
    "    out = pd.DataFrame({\n",
    "        'Month':dates.Month,\n",
    "        'Responsible':resp_cli.Responsible,\n",
    "        'Client':resp_cli.Client\n",
    "    }).sort_values(by=['Responsible', 'Client', 'Month']).reset_index(drop=True)\n",
    "\n",
    "    out = pd.merge(out, data.drop(columns='Data Type', axis=1), how='left', on=['Month', 'Responsible', 'Client'])\n",
    "    out.loc[out['Est Hrs'].isna(), 'Est Hrs'] = 0\n",
    "    return out\n",
    "\n",
    "df = fill_empty_dates(df)\n"
   ]
  },
  {
   "cell_type": "code",
   "execution_count": null,
   "metadata": {},
   "outputs": [],
   "source": [
    "# Statistical tests/EDA - whether data is stationary, granger-causality, distributions, visualizations\n",
    "\n",
    "# One of the challenges with this dataset is there is only one \"cycle\" of data (only one complete year). \n",
    "# You typically need at least two complete cycles of data in order to infer any seasonality. However,\n",
    "# we can still make an effort to ensure the data is stationary (not a trend in the data) prior to \n",
    "# using any forecast methods where stationary data is a constraint.\n",
    "\n",
    "\n",
    "# Make data stationary by using the `diff()` function\n",
    "example['res'] = example['Est Hrs'].diff()\n",
    "\n",
    "(\n",
    "    ggplot(example)\n",
    "    + aes(x='Month', y='res')\n",
    "    + geom_line()\n",
    ")"
   ]
  },
  {
   "cell_type": "code",
   "execution_count": null,
   "metadata": {},
   "outputs": [],
   "source": [
    "ac_plt = tsaplots.plot_acf(example.res.dropna(), lags = 1)"
   ]
  },
  {
   "cell_type": "code",
   "execution_count": null,
   "metadata": {},
   "outputs": [],
   "source": [
    "# Naive Baseline of Example - a quick example of the \"Score to beat\"\n",
    "\n",
    "mod = ARIMA(example.res, order=(0,1,0))\n",
    "res = mod.fit()\n",
    "\n",
    "print(res.summary())\n",
    "\n",
    "example['y_hat'] = res.predict()\n",
    "example.loc[datetime(2021,2,1), 'y_hat'] = example['Est Hrs'].iloc[0]\n",
    "example['y_hat'] = example['y_hat'].cumsum()\n",
    "(\n",
    "    ggplot(example[['Month', 'Est Hrs', 'y_hat']].melt(id_vars='Month'))\n",
    "    + aes(x='Month', y='value', color='variable')\n",
    "    + geom_line()\n",
    ")"
   ]
  },
  {
   "cell_type": "code",
   "execution_count": null,
   "metadata": {},
   "outputs": [],
   "source": [
    "mod = ARIMA(example.res, order=(1,1,0))\n",
    "res = mod.fit()\n",
    "\n",
    "print(res.summary())\n",
    "\n",
    "example['y_hat'] = res.predict()\n",
    "example.loc[datetime(2021,2,1), 'y_hat'] = example['Est Hrs'].iloc[0]\n",
    "example['y_hat'] = example['y_hat'].cumsum()\n",
    "(\n",
    "    ggplot(example[['Month', 'Est Hrs', 'y_hat']].melt(id_vars='Month'))\n",
    "    + aes(x='Month', y='value', color='variable')\n",
    "    + geom_line()\n",
    ")"
   ]
  },
  {
   "cell_type": "code",
   "execution_count": null,
   "metadata": {},
   "outputs": [],
   "source": [
    "# Make all data stationary\n",
    "df['res'] = df.groupby(['Responsible', 'Client'])['Est Hrs'].diff()"
   ]
  },
  {
   "cell_type": "code",
   "execution_count": null,
   "metadata": {},
   "outputs": [],
   "source": [
    "# Naive Baseline (Random Walk)\n",
    "\n",
    "def get_pred(data, pred, col):\n",
    "    data = data.reset_index(drop=True)\n",
    "    pred[1] = data.iloc[0]['Est Hrs']\n",
    "    data[col] = pred.cumsum().values\n",
    "    return data\n",
    "\n",
    "def naive_baseline(data):\n",
    "    data.index = pd.DatetimeIndex(data.Month, freq=pd.DatetimeIndex(data.Month).inferred_freq)\n",
    "    mod = ARIMA(data.res, order=(0,1,0), freq='MS')\n",
    "    data = get_pred(data, mod.fit().predict(), 'baseline')\n",
    "    return data\n",
    "\n",
    "#nb = df.groupby(['Responsible', 'Client'], as_index=False, observed=True).apply(func=naive_baseline).reset_index(drop=True)"
   ]
  },
  {
   "cell_type": "code",
   "execution_count": null,
   "metadata": {},
   "outputs": [],
   "source": [
    "# Heirarchal - Each client is a part of the whole for each Team Member; Each Team member is part of the overall Team\n",
    "\n",
    "def get_hierarchy(data, lvl1, lvl2):\n",
    "    new_ = f'{lvl1}_{lvl2}'\n",
    "    data[new_] = data.apply(lambda x: f'{x[lvl1]}_{x[lvl2]}', axis=1)\n",
    "    l1s = data[lvl1].unique()\n",
    "    l2s = data[new_].unique()\n",
    "    total = {'total': list(l1s)}\n",
    "    l1 = {k: [v for v in l2s if k == v.split('_')[0]] for k in l1s}\n",
    "    hier = {**total, **l1}\n",
    "    return hier, new_\n",
    "\n",
    "def get_hierarchal(data, lvl1, lvl2, date_col='Month', val='Est Hrs'):\n",
    "    hier, new_ = get_hierarchy(data, lvl1, lvl2)\n",
    "    hd = data.pivot(index=date_col, columns=new_, values=val)\\\n",
    "        .join(\n",
    "            data.groupby([date_col, lvl1], as_index=False, observed=True)\\\n",
    "                .agg({val : lambda x: data.loc[x.index][val].sum()})\\\n",
    "                    .pivot(index=date_col, columns=lvl1, values=val)\n",
    "            )\\\n",
    "                .join(\n",
    "                    data.groupby(date_col, observed=True)\\\n",
    "                        .agg({val : lambda x: data.loc[x.index][val].sum()})\\\n",
    "                            .rename(columns={val:'total'})\n",
    "                    )\n",
    "    return hier, hd\n",
    "\n",
    "hierarchy, hierarchy_df = get_hierarchal(df, 'Responsible', 'Client')   "
   ]
  },
  {
   "cell_type": "code",
   "execution_count": null,
   "metadata": {},
   "outputs": [],
   "source": [
    "def hier_arima(hdf, col, order=(1,1,0)):\n",
    "    mod = ARIMA(hdf[col].diff(), order=order, freq='MS')\n",
    "    mod = mod.fit()\n",
    "    #return mod.predict()\n",
    "    return mod\n",
    "\n",
    "    #example['y_hat'] = res.predict()\n",
    "    #example.loc[datetime(2021,2,1), 'y_hat'] = example['Est Hrs'].iloc[0]\n",
    "    #example['y_hat'] = example['y_hat'].cumsum()\n",
    "mod = hier_arima(hierarchy_df, 'total')\n",
    "mod.fitted_values()"
   ]
  },
  {
   "cell_type": "code",
   "execution_count": null,
   "metadata": {},
   "outputs": [],
   "source": [
    "hw = hts.HTSRegressor(model='holt_winters', revision_method='OLS', n_jobs=1)\n",
    "hw = hw.fit(hierarchy_df, nodes=hierarchy)\n",
    "hw_pred = reg.predict(steps_ahead=1)\n",
    "\n",
    "auto_arima = hts.HTSRegressor(model='auto_arima', revision_method='OLS', n_jobs=1)\n",
    "auto_arima = auto_arima.fit(hierarchy_df, nodes=hierarchy)\n",
    "auto_arima_pred = auto_arima.predict(steps_ahead=1)"
   ]
  },
  {
   "cell_type": "code",
   "execution_count": null,
   "metadata": {},
   "outputs": [],
   "source": [
    "auto_arima_pred"
   ]
  },
  {
   "cell_type": "code",
   "execution_count": null,
   "metadata": {},
   "outputs": [],
   "source": [
    "# Random Forest"
   ]
  }
 ],
 "metadata": {
  "interpreter": {
   "hash": "512ce4aafee9dc1a4e07d509c245fb1dfa97ed3d349cfc6dc045ad18352c900b"
  },
  "kernelspec": {
   "display_name": "Python 3.9.6 ('htsf')",
   "language": "python",
   "name": "python3"
  },
  "language_info": {
   "codemirror_mode": {
    "name": "ipython",
    "version": 3
   },
   "file_extension": ".py",
   "mimetype": "text/x-python",
   "name": "python",
   "nbconvert_exporter": "python",
   "pygments_lexer": "ipython3",
   "version": "3.9.6"
  },
  "orig_nbformat": 4
 },
 "nbformat": 4,
 "nbformat_minor": 2
}
