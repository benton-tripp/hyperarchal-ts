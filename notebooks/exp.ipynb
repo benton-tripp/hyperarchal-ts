{
 "cells": [
  {
   "cell_type": "code",
   "execution_count": null,
   "metadata": {},
   "outputs": [],
   "source": [
    "#htsf\\Scripts\\activate    \n",
    "\n",
    "# Import libraries\n",
    "import pandas as pd\n",
    "import numpy as np\n",
    "#import matplotlib.pylab as plt ### Remove\n",
    "#plt.style.use('bmh') ### Remove\n",
    "\n",
    "import sys, os\n",
    "sys.path.append(os.path.join(os.path.dirname('__file__'), '..', 'src'))\n",
    "import hyperarch\n",
    "from utils import get_sample_data, plot_single\n",
    "\n",
    "%matplotlib inline\n",
    "\n",
    "# Read data\n",
    "h_df = get_sample_data(verbose = True)\n",
    "g_df = get_sample_data(agg_type='grouped')"
   ]
  },
  {
   "cell_type": "code",
   "execution_count": null,
   "metadata": {},
   "outputs": [],
   "source": [
    "# Hierarchy\n",
    "hierarchy_df, h_bottom, h_labels = hyperarch.get_hierarchal(h_df, 'category', 'subcategory', agg_type='hierarchy')   \n",
    "h_s = hyperarch.get_S(h_bottom, h_labels, agg_type='hierarchy')\n",
    "h_models = hyperarch.get_models(hierarchy_df, order=(1, 2, 12), steps_out=6, make_stationary=False)\n",
    "h_yhat = hyperarch.get_forecast_matrix(h_models)\n",
    "h_reconciled_yhat = hyperarch.reconcile(h_yhat, h_s, method='ols')\n",
    "hdf_pred, hdf_rec = hyperarch.predict_hier(hierarchy_df, h_yhat, h_reconciled_yhat, h_labels, h_models['index'])\n",
    "plot_single(hdf_pred, hdf_rec)"
   ]
  },
  {
   "cell_type": "code",
   "execution_count": null,
   "metadata": {},
   "outputs": [],
   "source": [
    "# Grouped\n",
    "grouped_df, g_bottom, g_labels = hyperarch.get_hierarchal(g_df, 'category', 'subcategory', agg_type='grouped')   \n",
    "g_s = hyperarch.get_S(g_bottom, g_labels, agg_type='grouped')\n",
    "g_models = hyperarch.get_models(grouped_df, order=(1, 2, 12), steps_out=6, make_stationary=False)\n",
    "g_yhat = hyperarch.get_forecast_matrix(g_models)\n",
    "g_reconciled_yhat = hyperarch.reconcile(g_yhat, g_s, method='ols')\n",
    "gdf_pred, gdf_rec = hyperarch.predict_hier(grouped_df, g_yhat, g_reconciled_yhat, g_labels, g_models['index'])\n",
    "plot_single(gdf_pred, gdf_rec)"
   ]
  }
 ],
 "metadata": {
  "interpreter": {
   "hash": "07a2e8d988ff07ad44720ff1a757506eadb9bb0e3e91166e612503c6333465a8"
  },
  "kernelspec": {
   "display_name": "Python 3.8.8 ('htsf': venv)",
   "language": "python",
   "name": "python3"
  },
  "language_info": {
   "codemirror_mode": {
    "name": "ipython",
    "version": 3
   },
   "file_extension": ".py",
   "mimetype": "text/x-python",
   "name": "python",
   "nbconvert_exporter": "python",
   "pygments_lexer": "ipython3",
   "version": "3.8.8"
  },
  "orig_nbformat": 4
 },
 "nbformat": 4,
 "nbformat_minor": 2
}
