{
 "cells": [
  {
   "cell_type": "code",
   "execution_count": null,
   "metadata": {},
   "outputs": [],
   "source": [
    "#htsf\\Scripts\\activate    \n",
    "\n",
    "# Import libraries\n",
    "import pandas as pd\n",
    "import numpy as np\n",
    "from plotnine import ggplot, aes, geom_line\n",
    "\n",
    "import sys, os\n",
    "sys.path.append(os.path.join(os.path.dirname('__file__'), '..', 'src'))\n",
    "import hyperarch\n",
    "\n",
    "%matplotlib inline\n",
    "\n",
    "\n",
    "def get_data(file_loc, verbose=True):\n",
    "    data = pd.read_csv(file_loc)\n",
    "    # Update Data Types\n",
    "    data['date'] = pd.to_datetime(data['date'])\n",
    "    data['subcategory'] = data['subcategory'].astype('category')\n",
    "    data['category'] = data['category'].astype('category')\n",
    "    if verbose is True:\n",
    "        display(data.head())\n",
    "        data.info()\n",
    "        for col in data.columns:\n",
    "            if data[col].dtype == 'category':\n",
    "                print(f'{col} unique values: {len(data[col].unique())}')\n",
    "            elif data[col].dtype == 'datetime64[ns]':\n",
    "                print(f'Min Date: {data[col].min()}')\n",
    "                print(f'Max Date: {data[col].max()}')\n",
    "            else:\n",
    "                print(f'{col}:\\n{data[col].describe()}\\n')\n",
    "    return data\n",
    "\n",
    "# Read data\n",
    "h_df = get_data('../data/hierarchal_agg.csv', verbose = True)\n",
    "g_df = get_data('../data/grouped_agg.csv', verbose = False)"
   ]
  },
  {
   "cell_type": "code",
   "execution_count": null,
   "metadata": {},
   "outputs": [],
   "source": [
    "# Hierarchy\n",
    "hierarchy_df, h_bottom, h_labels = hyperarch.get_hierarchal(h_df, 'category', 'subcategory', agg_type='hierarchy')   \n",
    "h_s = hyperarch.get_S(h_bottom, h_labels, agg_type='hierarchy')\n",
    "h_models = hyperarch.get_models(hierarchy_df, order=(1,1,0), steps_out=1)\n",
    "h_yhat = hyperarch.get_forecast_matrix(h_models)\n",
    "h_reconciled_yhat = hyperarch.reconcile(h_yhat, h_s, method='ols')\n",
    "hdf_pred, hdf_rec = hyperarch.predict_hier(hierarchy_df, h_yhat, h_reconciled_yhat, h_labels, h_models['index'])\n",
    "\n",
    "# Grouped\n",
    "grouped_df, g_bottom, g_labels = hyperarch.get_hierarchal(g_df, 'category', 'subcategory', agg_type='grouped')   \n",
    "g_s = hyperarch.get_S(g_bottom, g_labels, agg_type='grouped')\n",
    "g_models = hyperarch.get_models(grouped_df, steps_out=1)\n",
    "g_yhat = hyperarch.get_forecast_matrix(g_models)\n",
    "g_reconciled_yhat = hyperarch.reconcile(g_yhat, g_s, method='ols')\n",
    "gdf_pred, gdf_rec = hyperarch.predict_hier(grouped_df, g_yhat, g_reconciled_yhat, g_labels, g_models['index'])"
   ]
  },
  {
   "cell_type": "code",
   "execution_count": null,
   "metadata": {},
   "outputs": [],
   "source": [
    "import utils\n",
    "\n",
    "h_df.groupby(['category', 'subcategory']).agg(append_years)"
   ]
  },
  {
   "cell_type": "code",
   "execution_count": null,
   "metadata": {},
   "outputs": [],
   "source": [
    "(\n",
    "    ggplot(hdf_pred)\n",
    "    + aes(x=hdf_pred.index, y='total', color='actual')\n",
    "    + geom_line()\n",
    ")"
   ]
  }
 ],
 "metadata": {
  "interpreter": {
   "hash": "909fcdf7dc32f20eda4c87604a97b0d9c6db020a5a69ab8a08e2d3992a8b1afc"
  },
  "kernelspec": {
   "display_name": "Python 3.8.8 ('htsf': venv)",
   "language": "python",
   "name": "python3"
  },
  "language_info": {
   "codemirror_mode": {
    "name": "ipython",
    "version": 3
   },
   "file_extension": ".py",
   "mimetype": "text/x-python",
   "name": "python",
   "nbconvert_exporter": "python",
   "pygments_lexer": "ipython3",
   "version": "3.8.8"
  },
  "orig_nbformat": 4
 },
 "nbformat": 4,
 "nbformat_minor": 2
}
