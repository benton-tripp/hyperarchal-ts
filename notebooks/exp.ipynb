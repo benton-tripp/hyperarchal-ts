{
 "cells": [
  {
   "cell_type": "code",
   "execution_count": null,
   "metadata": {},
   "outputs": [],
   "source": [
    "#htsf\\Scripts\\activate    \n",
    "\n",
    "# Import libraries\n",
    "import pandas as pd\n",
    "import numpy as np\n",
    "#import matplotlib.pylab as plt ### Remove\n",
    "#plt.style.use('bmh') ### Remove\n",
    "\n",
    "import sys, os\n",
    "sys.path.append(os.path.join(os.path.dirname('__file__'), '..', 'src'))\n",
    "import hyperarch\n",
    "from utils import get_sample_data, plot_single\n",
    "\n",
    "%matplotlib inline\n",
    "\n",
    "# Read data\n",
    "h_df = get_sample_data(verbose = True)\n",
    "g_df = get_sample_data(agg_type='grouped')"
   ]
  },
  {
   "cell_type": "code",
   "execution_count": 3,
   "metadata": {},
   "outputs": [
    {
     "data": {
      "text/html": [
       "<div>\n",
       "<style scoped>\n",
       "    .dataframe tbody tr th:only-of-type {\n",
       "        vertical-align: middle;\n",
       "    }\n",
       "\n",
       "    .dataframe tbody tr th {\n",
       "        vertical-align: top;\n",
       "    }\n",
       "\n",
       "    .dataframe thead th {\n",
       "        text-align: right;\n",
       "    }\n",
       "</style>\n",
       "<table border=\"1\" class=\"dataframe\">\n",
       "  <thead>\n",
       "    <tr style=\"text-align: right;\">\n",
       "      <th></th>\n",
       "      <th>total</th>\n",
       "      <th>category 1</th>\n",
       "      <th>category 2</th>\n",
       "      <th>category 1_subcat 1</th>\n",
       "      <th>category 1_subcat 2</th>\n",
       "      <th>category 1_subcat 3</th>\n",
       "      <th>category 2_subcat 4</th>\n",
       "      <th>category 2_subcat 5</th>\n",
       "    </tr>\n",
       "    <tr>\n",
       "      <th>date</th>\n",
       "      <th></th>\n",
       "      <th></th>\n",
       "      <th></th>\n",
       "      <th></th>\n",
       "      <th></th>\n",
       "      <th></th>\n",
       "      <th></th>\n",
       "      <th></th>\n",
       "    </tr>\n",
       "  </thead>\n",
       "  <tbody>\n",
       "    <tr>\n",
       "      <th>2010-01-01</th>\n",
       "      <td>13.0</td>\n",
       "      <td>4.0</td>\n",
       "      <td>9.0</td>\n",
       "      <td>1.0</td>\n",
       "      <td>2.0</td>\n",
       "      <td>1.0</td>\n",
       "      <td>1.0</td>\n",
       "      <td>8.0</td>\n",
       "    </tr>\n",
       "    <tr>\n",
       "      <th>2010-02-01</th>\n",
       "      <td>12.1</td>\n",
       "      <td>3.1</td>\n",
       "      <td>9.0</td>\n",
       "      <td>2.0</td>\n",
       "      <td>1.0</td>\n",
       "      <td>0.1</td>\n",
       "      <td>3.0</td>\n",
       "      <td>6.0</td>\n",
       "    </tr>\n",
       "    <tr>\n",
       "      <th>2010-03-01</th>\n",
       "      <td>21.0</td>\n",
       "      <td>5.0</td>\n",
       "      <td>16.0</td>\n",
       "      <td>3.0</td>\n",
       "      <td>2.0</td>\n",
       "      <td>0.0</td>\n",
       "      <td>4.0</td>\n",
       "      <td>12.0</td>\n",
       "    </tr>\n",
       "    <tr>\n",
       "      <th>2010-04-01</th>\n",
       "      <td>24.5</td>\n",
       "      <td>9.5</td>\n",
       "      <td>15.0</td>\n",
       "      <td>3.3</td>\n",
       "      <td>5.0</td>\n",
       "      <td>1.2</td>\n",
       "      <td>3.0</td>\n",
       "      <td>12.0</td>\n",
       "    </tr>\n",
       "    <tr>\n",
       "      <th>2010-05-01</th>\n",
       "      <td>35.4</td>\n",
       "      <td>22.4</td>\n",
       "      <td>13.0</td>\n",
       "      <td>5.4</td>\n",
       "      <td>12.0</td>\n",
       "      <td>5.0</td>\n",
       "      <td>1.0</td>\n",
       "      <td>12.0</td>\n",
       "    </tr>\n",
       "  </tbody>\n",
       "</table>\n",
       "</div>"
      ],
      "text/plain": [
       "            total  category 1  category 2  category 1_subcat 1  \\\n",
       "date                                                             \n",
       "2010-01-01   13.0         4.0         9.0                  1.0   \n",
       "2010-02-01   12.1         3.1         9.0                  2.0   \n",
       "2010-03-01   21.0         5.0        16.0                  3.0   \n",
       "2010-04-01   24.5         9.5        15.0                  3.3   \n",
       "2010-05-01   35.4        22.4        13.0                  5.4   \n",
       "\n",
       "            category 1_subcat 2  category 1_subcat 3  category 2_subcat 4  \\\n",
       "date                                                                        \n",
       "2010-01-01                  2.0                  1.0                  1.0   \n",
       "2010-02-01                  1.0                  0.1                  3.0   \n",
       "2010-03-01                  2.0                  0.0                  4.0   \n",
       "2010-04-01                  5.0                  1.2                  3.0   \n",
       "2010-05-01                 12.0                  5.0                  1.0   \n",
       "\n",
       "            category 2_subcat 5  \n",
       "date                             \n",
       "2010-01-01                  8.0  \n",
       "2010-02-01                  6.0  \n",
       "2010-03-01                 12.0  \n",
       "2010-04-01                 12.0  \n",
       "2010-05-01                 12.0  "
      ]
     },
     "execution_count": 3,
     "metadata": {},
     "output_type": "execute_result"
    }
   ],
   "source": [
    "hierarchy_df, h_bottom, h_labels = hyperarch.get_hierarchal(h_df, 'category', 'subcategory', agg_type='hierarchy') \n",
    "hierarchy_df.head()"
   ]
  },
  {
   "cell_type": "code",
   "execution_count": 44,
   "metadata": {},
   "outputs": [
    {
     "name": "stdout",
     "output_type": "stream",
     "text": [
      "Test RMSE - total: 15.108\n"
     ]
    }
   ],
   "source": [
    "import pmdarima as pm\n",
    "from pmdarima import model_selection\n",
    "from sklearn.metrics import mean_squared_error\n",
    "\n",
    "def hier_auto_arima(col, future=False, horizon=6, verbose=True, **kwargs):\n",
    "    train, test = model_selection.train_test_split(col, **{'train_size': .8, **kwargs})\n",
    "    # SARIMA(p, d, q)(P, D, Q)m \n",
    "    mod = pm.auto_arima(\n",
    "        train, \n",
    "        **{\n",
    "            'start_p' : 0, # p - Trend Order autoregression\n",
    "            'start_q' : 0, # q - Trend Order \n",
    "            'start_P' : 0, # P - Seasonal Order autoregression\n",
    "            'start_Q' : 0, # Q - Seasonal Order MA\n",
    "            'max_p' : 5, \n",
    "            'max_q' : 5, \n",
    "            'max_P' : 3, \n",
    "            'max_Q' : 3, \n",
    "            'max_d' : 3, # d - Trend Order difference\n",
    "            'max_D' : 3, # D - Seasonal Order Difference\n",
    "            'm' : 12, # m - time steps in seasonal period\n",
    "            'seasonal' : True, \n",
    "            'stepwise' : True, \n",
    "            'suppress_warnings' : True, \n",
    "            'error_action' : 'ignore',\n",
    "            **kwargs\n",
    "            }\n",
    "        )\n",
    "    test_preds, test_conf_int = mod.predict(n_periods=test.shape[0], return_conf_int=True)\n",
    "    if verbose is True:\n",
    "        print(f\"Test RMSE - {col.name}: %.3f\" % np.sqrt(mean_squared_error(test, test_preds)))\n",
    "    if future is False:\n",
    "        return mod, test_preds, test_conf_int\n",
    "    else:\n",
    "        preds, conf_int = mod.predict(n_periods=horizon, return_conf_int=True)\n",
    "        return mod, preds, conf_int\n",
    "\n",
    "m, p, c = hier_auto_arima(hierarchy_df.total, train_size=.75, future=True)"
   ]
  },
  {
   "cell_type": "code",
   "execution_count": 45,
   "metadata": {},
   "outputs": [
    {
     "name": "stdout",
     "output_type": "stream",
     "text": [
      "(3, 0, 0)\n",
      "(2, 1, 0, 12)\n"
     ]
    },
    {
     "data": {
      "text/plain": [
       "array([49.00204759, 66.1558327 , 83.83721169, 88.16957429, 81.42346936,\n",
       "       63.09787102])"
      ]
     },
     "execution_count": 45,
     "metadata": {},
     "output_type": "execute_result"
    }
   ],
   "source": [
    "print(m.order)\n",
    "print(m.seasonal_order)\n",
    "p"
   ]
  },
  {
   "cell_type": "code",
   "execution_count": null,
   "metadata": {},
   "outputs": [],
   "source": [
    "# Hierarchy\n",
    "hierarchy_df, h_bottom, h_labels = hyperarch.get_hierarchal(h_df, 'category', 'subcategory', agg_type='hierarchy')   \n",
    "h_s = hyperarch.get_S(h_bottom, h_labels, agg_type='hierarchy')\n",
    "h_models = hyperarch.get_models(hierarchy_df, order=(1, 2, 12), steps_out=6, make_stationary=False)\n",
    "h_yhat = hyperarch.get_forecast_matrix(h_models)\n",
    "h_reconciled_yhat = hyperarch.reconcile(h_yhat, h_s, method='ols')\n",
    "hdf_pred, hdf_rec = hyperarch.predict_hier(hierarchy_df, h_yhat, h_reconciled_yhat, h_labels, h_models['index'])\n",
    "plot_single(hdf_pred, hdf_rec)"
   ]
  },
  {
   "cell_type": "code",
   "execution_count": null,
   "metadata": {},
   "outputs": [],
   "source": [
    "# Grouped\n",
    "grouped_df, g_bottom, g_labels = hyperarch.get_hierarchal(g_df, 'category', 'subcategory', agg_type='grouped')   \n",
    "g_s = hyperarch.get_S(g_bottom, g_labels, agg_type='grouped')\n",
    "g_models = hyperarch.get_models(grouped_df, order=(1, 2, 12), steps_out=6, make_stationary=False)\n",
    "g_yhat = hyperarch.get_forecast_matrix(g_models)\n",
    "g_reconciled_yhat = hyperarch.reconcile(g_yhat, g_s, method='ols')\n",
    "gdf_pred, gdf_rec = hyperarch.predict_hier(grouped_df, g_yhat, g_reconciled_yhat, g_labels, g_models['index'])\n",
    "plot_single(gdf_pred, gdf_rec)"
   ]
  }
 ],
 "metadata": {
  "interpreter": {
   "hash": "07a2e8d988ff07ad44720ff1a757506eadb9bb0e3e91166e612503c6333465a8"
  },
  "kernelspec": {
   "display_name": "Python 3.8.8 ('htsf': venv)",
   "language": "python",
   "name": "python3"
  },
  "language_info": {
   "codemirror_mode": {
    "name": "ipython",
    "version": 3
   },
   "file_extension": ".py",
   "mimetype": "text/x-python",
   "name": "python",
   "nbconvert_exporter": "python",
   "pygments_lexer": "ipython3",
   "version": "3.8.8"
  },
  "orig_nbformat": 4
 },
 "nbformat": 4,
 "nbformat_minor": 2
}
