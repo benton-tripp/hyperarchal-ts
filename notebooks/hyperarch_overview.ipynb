{
 "cells": [
  {
   "cell_type": "code",
   "execution_count": 3,
   "metadata": {},
   "outputs": [],
   "source": [
    "# Import libraries\n",
    "import pandas as pd\n",
    "import numpy as np\n",
    "\n",
    "import sys, os\n",
    "sys.path.append(os.path.join(os.path.dirname('__file__'), '..', 'src'))\n",
    "import hyperarch\n",
    "from utils import get_sample_data, plot_single\n",
    "\n",
    "%matplotlib inline\n",
    "\n",
    "# Read data\n",
    "h_df = get_sample_data()\n",
    "g_df = get_sample_data(agg_type='grouped')"
   ]
  },
  {
   "cell_type": "code",
   "execution_count": 4,
   "metadata": {},
   "outputs": [],
   "source": [
    "hierarchy_df, h_bottom, h_labels = hyperarch.get_hierarchal(h_df, 'category', 'subcategory', agg_type='hierarchy') \n",
    "grouped_df, g_bottom, g_labels = hyperarch.get_hierarchal(g_df, 'category', 'subcategory', agg_type='grouped') "
   ]
  }
 ],
 "metadata": {
  "interpreter": {
   "hash": "07a2e8d988ff07ad44720ff1a757506eadb9bb0e3e91166e612503c6333465a8"
  },
  "kernelspec": {
   "display_name": "Python 3.8.8 ('htsf': venv)",
   "language": "python",
   "name": "python3"
  },
  "language_info": {
   "codemirror_mode": {
    "name": "ipython",
    "version": 3
   },
   "file_extension": ".py",
   "mimetype": "text/x-python",
   "name": "python",
   "nbconvert_exporter": "python",
   "pygments_lexer": "ipython3",
   "version": "3.8.8"
  },
  "orig_nbformat": 4
 },
 "nbformat": 4,
 "nbformat_minor": 2
}
