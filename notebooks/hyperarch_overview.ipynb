{
 "cells": [
  {
   "cell_type": "markdown",
   "metadata": {},
   "source": [
    "# Forecast Reconciliation from Scratch in Python\n",
    "Reconcile hierarchal forecasts into coherent forecasts using Python.\n",
    "\n",
    "## Introduction\n",
    "In my experience, it is somewhat unusual to work with real time-series data that does not have underlying \"levels\". For example, consider the data that might be produced via transactions at a grocery store. Transactions can be described at an individual product level, a shopper level, or at a store level. The products purchased might also be categorized into a specific type of product, and those categories might in turn fall into broader categories. For a business owner, this complex hierarchal structure can complicate making accurate and unbiased forecasts for their business. A data-driven person will most likely produce forecasts for each of the different levels, but they don't always add up. This is where reconciliation becomes necessary.\n",
    "\n",
    "The majority of my explanations throughout this post are based on the book [*Forecasting: Principles and Practice*](https://otexts.com/fpp3/) by Rob J. Hyndman and George Athanasopoulos - an excellent resource for forecasting in general and completely free online. I highly recommend that you spend some time reading Hyndman's [more detailed explanation](https://otexts.com/fpp3/hierarchical.html) of reconciling hierarchal and grouped forecasts at some point. It is not my intention here to replace this book, although I still intend to give a comprehensive explanation of forecasting reconciliation. My intention in writing this blog-post is to provide whomever is reading this with the background needed to develop their own forecast reconciliation code. I have found that the [existing tools]() I have used are not (in my opinion) at a stage in their development where they can be considered reliable in a production environement, or cannot be generalized to every scenario (I know this from personal experience). I have also found that staring at a mathematical formula or applying some pre-defined function that somebody else created are not the best ways to gain a firm understanding of what is actually happening. Hopefully by sharing some short explanations of how one might go about writing their own Python code, I can also provide some additional insight that might not be attained otherwise.\n",
    "\n",
    "## Hierarchal Time Series\n",
    "To begin, I will give a brief introduction to the differences between hierarchal and grouped time series (no, they are not quite the same thing). A time series is considered *hierarchal*\n",
    "when lower levels withing the hierarchy only fall under one domain. For example consider the following tree:"
   ]
  },
  {
   "cell_type": "code",
   "execution_count": 8,
   "metadata": {},
   "outputs": [
    {
     "name": "stdout",
     "output_type": "stream",
     "text": [
      "Total\n",
      "├── Category 1\n",
      "│   ├── Sub-Category 1\n",
      "│   └── Sub-Category 2\n",
      "└── Category 2\n",
      "    ├── Sub-Category 3\n",
      "    └── Sub-Category 4\n",
      "\n"
     ]
    }
   ],
   "source": [
    "from treelib import Tree\n",
    "\n",
    "tree = Tree()\n",
    "tree.create_node(\"Total\", \"total\")  # root node\n",
    "tree.create_node(\"Category 1\", \"cat1\", parent=\"total\")\n",
    "tree.create_node(\"Category 2\", \"cat2\", parent=\"total\")\n",
    "tree.create_node(\"Sub-Category 1\", \"sub1\", parent=\"cat1\")\n",
    "tree.create_node(\"Sub-Category 2\", \"sub2\", parent=\"cat1\")\n",
    "tree.create_node(\"Sub-Category 3\", \"sub3\", parent=\"cat2\")\n",
    "tree.create_node(\"Sub-Category 4\", \"sub4\", parent=\"cat2\")\n",
    "tree.show()"
   ]
  },
  {
   "cell_type": "markdown",
   "metadata": {},
   "source": [
    "`Sub-Category 1` falls exclusively under `Category 1`, `Sub-Category 4` falls exlusively under `Sub-Category 2`, etc. This *exclusivity* is what defines a hierarchal time series. It is also important to note that mathematically, each of the sub-categories should add up to the category above them, and `Total` is also the total sum of each of the bottom-level categories. A mathematical expression might look something like this:\n",
    "\n",
    "*T* = *C1* + *C2* = *SC1* + *SC2* + *SC3* + *SC4* <br>\n",
    "*C1* = *SC1* + *SC2* <br>\n",
    "*C2* = *SC3* + *SC4* <br>\n",
    "\n",
    "A *grouped* time series is when that exclusivity between sub-domains does not exist. For example, if this same tree were to have an extra node - `Sub-Category 5` - that fell under both `Category 1` and `Category 2`:"
   ]
  },
  {
   "cell_type": "code",
   "execution_count": 9,
   "metadata": {},
   "outputs": [
    {
     "name": "stdout",
     "output_type": "stream",
     "text": [
      "Total\n",
      "├── Category 1\n",
      "│   ├── Sub-Category 1\n",
      "│   ├── Sub-Category 2\n",
      "│   └── Sub-Category 5\n",
      "└── Category 2\n",
      "    ├── Sub-Category 3\n",
      "    ├── Sub-Category 4\n",
      "    └── Sub-Category 5\n",
      "\n"
     ]
    }
   ],
   "source": [
    "tree.create_node(\"Sub-Category 5\", \"sub51\", parent=\"cat1\")\n",
    "tree.create_node(\"Sub-Category 5\", \"sub52\", parent=\"cat2\")\n",
    "tree.show()"
   ]
  },
  {
   "cell_type": "markdown",
   "metadata": {},
   "source": [
    "This complexity means that the original formulas used are no longer valid. Hyndman [describes](https://otexts.com/fpp3/hts.html#grouped-time-series) this structural concept as *\"not naturally disaggregat[ing] in a unique hierarchical manner.\"*\n",
    "\n",
    "The differences between hierarchal and grouped time series are important to understand, because the summing matrix (described in the next section) is dependent on the structure of the time series."
   ]
  },
  {
   "cell_type": "markdown",
   "metadata": {},
   "source": [
    "## Building Blocks of Coherent Forecasts\n",
    "Coherent - or reconciled - forecasts are constructed from a few key components:\n",
    "\n",
    "1) Base Forecasts: forecasts at each hierarchal level represented as an *m*x*n* matrix (*m* rows, *n* columns)\n",
    "2) Summing matrix: describes the hierarchal structure of the matrix using a binary format ()\n",
    "3) Mapping Matrix: \n",
    "\n",
    "## Reconciliation Methods\n",
    "\n",
    "\n",
    "## Available Reconciliation Tools\n",
    "\n",
    "\n",
    "## Forecast Reconciliation in Python"
   ]
  },
  {
   "cell_type": "code",
   "execution_count": null,
   "metadata": {},
   "outputs": [],
   "source": [
    "# Import libraries\n",
    "import pandas as pd\n",
    "import numpy as np\n",
    "\n",
    "import sys, os\n",
    "sys.path.append(os.path.join(os.path.dirname('__file__'), '..', 'src'))\n",
    "import hyperarch\n",
    "from utils import get_sample_data, plot_single\n",
    "\n",
    "%matplotlib inline\n",
    "\n",
    "# Read data\n",
    "h_df = get_sample_data()\n",
    "g_df = get_sample_data(agg_type='grouped')"
   ]
  },
  {
   "cell_type": "code",
   "execution_count": null,
   "metadata": {},
   "outputs": [],
   "source": [
    "hierarchy_df, h_bottom, h_labels = hyperarch.get_hierarchal(h_df, 'category', 'subcategory', agg_type='hierarchy') \n",
    "grouped_df, g_bottom, g_labels = hyperarch.get_hierarchal(g_df, 'category', 'subcategory', agg_type='grouped') "
   ]
  },
  {
   "cell_type": "code",
   "execution_count": null,
   "metadata": {},
   "outputs": [],
   "source": []
  }
 ],
 "metadata": {
  "interpreter": {
   "hash": "07a2e8d988ff07ad44720ff1a757506eadb9bb0e3e91166e612503c6333465a8"
  },
  "kernelspec": {
   "display_name": "Python 3.8.8 ('htsf': venv)",
   "language": "python",
   "name": "python3"
  },
  "language_info": {
   "codemirror_mode": {
    "name": "ipython",
    "version": 3
   },
   "file_extension": ".py",
   "mimetype": "text/x-python",
   "name": "python",
   "nbconvert_exporter": "python",
   "pygments_lexer": "ipython3",
   "version": "3.8.8"
  },
  "orig_nbformat": 4
 },
 "nbformat": 4,
 "nbformat_minor": 2
}
