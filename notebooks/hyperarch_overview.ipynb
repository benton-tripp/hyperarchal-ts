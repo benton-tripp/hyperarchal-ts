{
 "cells": [
  {
   "cell_type": "code",
   "execution_count": null,
   "metadata": {},
   "outputs": [],
   "source": [
    "# Import libraries\n",
    "import pandas as pd\n",
    "import numpy as np\n",
    "\n",
    "import sys, os\n",
    "sys.path.append(os.path.join(os.path.dirname('__file__'), '..', 'src'))\n",
    "import hyperarch\n",
    "from utils import get_sample_data, plot_single\n",
    "\n",
    "%matplotlib inline\n",
    "\n",
    "# Read data\n",
    "h_df = get_sample_data(verbose = True)\n",
    "g_df = get_sample_data(agg_type='grouped')"
   ]
  }
 ],
 "metadata": {
  "language_info": {
   "name": "python"
  },
  "orig_nbformat": 4
 },
 "nbformat": 4,
 "nbformat_minor": 2
}
